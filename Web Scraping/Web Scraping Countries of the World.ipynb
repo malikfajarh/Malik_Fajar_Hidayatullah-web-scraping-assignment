{
 "cells": [
  {
   "cell_type": "markdown",
   "metadata": {
    "id": "GaYUWdnA8HdV"
   },
   "source": [
    "### Web Scrap Countries of the world with bs4"
   ]
  },
  {
   "cell_type": "code",
   "execution_count": 2,
   "metadata": {
    "id": "V5B_GD1S8HdW"
   },
   "outputs": [],
   "source": [
    "from bs4 import BeautifulSoup\n",
    "import requests\n",
    "import pandas as pd"
   ]
  },
  {
   "cell_type": "code",
   "execution_count": 3,
   "metadata": {
    "id": "ZPiO5gVT8HdW"
   },
   "outputs": [],
   "source": [
    "url = 'https://www.scrapethissite.com/pages/simple/'\n",
    "response = requests.get(url)"
   ]
  },
  {
   "cell_type": "code",
   "execution_count": 4,
   "metadata": {
    "id": "X2xQgtRI8HdX"
   },
   "outputs": [],
   "source": [
    "soup = BeautifulSoup(response.text, 'html.parser')"
   ]
  },
  {
   "cell_type": "code",
   "execution_count": 5,
   "metadata": {
    "id": "KVI6_voV8HdX"
   },
   "outputs": [],
   "source": [
    "list_content = soup.select('.country')"
   ]
  },
  {
   "cell_type": "code",
   "execution_count": 6,
   "metadata": {
    "colab": {
     "base_uri": "https://localhost:8080/"
    },
    "id": "NleWv40F8HdX",
    "outputId": "7c7c253c-6162-40ec-b3fe-19a781427533"
   },
   "outputs": [
    {
     "data": {
      "text/plain": [
       "<div class=\"col-md-4 country\">\n",
       "<h3 class=\"country-name\">\n",
       "<i class=\"flag-icon flag-icon-ad\"></i>\n",
       "                            Andorra\n",
       "                        </h3>\n",
       "<div class=\"country-info\">\n",
       "<strong>Capital:</strong> <span class=\"country-capital\">Andorra la Vella</span><br/>\n",
       "<strong>Population:</strong> <span class=\"country-population\">84000</span><br/>\n",
       "<strong>Area (km<sup>2</sup>):</strong> <span class=\"country-area\">468.0</span><br/>\n",
       "</div>\n",
       "</div>"
      ]
     },
     "execution_count": 6,
     "metadata": {},
     "output_type": "execute_result"
    }
   ],
   "source": [
    "list_content[0]"
   ]
  },
  {
   "cell_type": "code",
   "execution_count": 7,
   "metadata": {
    "id": "IV_wuTiE8HdX"
   },
   "outputs": [],
   "source": [
    "result = []\n",
    "for item in list_content:\n",
    "  data = dict()\n",
    "\n",
    "  # data collection\n",
    "  data['name'] = item.select_one('.country-name').text\n",
    "  data['capital'] = item.select_one('.country-capital').text\n",
    "  data['population'] = item.select_one('.country-population').text\n",
    "  data['area'] = item.select_one('.country-area').text\n",
    "  result.append(data)"
   ]
  },
  {
   "cell_type": "code",
   "execution_count": 19,
   "metadata": {
    "colab": {
     "base_uri": "https://localhost:8080/"
    },
    "id": "C6gJ4dlE8HdX",
    "outputId": "0fe11642-b41c-4d81-ece0-b04830bffaa3"
   },
   "outputs": [
    {
     "name": "stdout",
     "output_type": "stream",
     "text": [
      "{'name': '\\n\\n                            Zimbabwe\\n                        ', 'capital': 'Harare', 'population': '11651858', 'area': '390580.0'}\n"
     ]
    }
   ],
   "source": [
    "print(data)"
   ]
  },
  {
   "cell_type": "code",
   "execution_count": 21,
   "metadata": {
    "colab": {
     "base_uri": "https://localhost:8080/",
     "height": 687
    },
    "id": "IB8isceN8HdY",
    "outputId": "0ea2dbca-0824-43cd-f088-8126bad16202"
   },
   "outputs": [
    {
     "data": {
      "text/html": [
       "<div>\n",
       "<style scoped>\n",
       "    .dataframe tbody tr th:only-of-type {\n",
       "        vertical-align: middle;\n",
       "    }\n",
       "\n",
       "    .dataframe tbody tr th {\n",
       "        vertical-align: top;\n",
       "    }\n",
       "\n",
       "    .dataframe thead th {\n",
       "        text-align: right;\n",
       "    }\n",
       "</style>\n",
       "<table border=\"1\" class=\"dataframe\">\n",
       "  <thead>\n",
       "    <tr style=\"text-align: right;\">\n",
       "      <th></th>\n",
       "      <th>name</th>\n",
       "      <th>capital</th>\n",
       "      <th>population</th>\n",
       "      <th>area</th>\n",
       "    </tr>\n",
       "  </thead>\n",
       "  <tbody>\n",
       "    <tr>\n",
       "      <th>1</th>\n",
       "      <td>Andorra</td>\n",
       "      <td>Andorra la Vella</td>\n",
       "      <td>84,000</td>\n",
       "      <td>468.0</td>\n",
       "    </tr>\n",
       "    <tr>\n",
       "      <th>2</th>\n",
       "      <td>United Arab Emirates</td>\n",
       "      <td>Abu Dhabi</td>\n",
       "      <td>4,975,593</td>\n",
       "      <td>82,880.0</td>\n",
       "    </tr>\n",
       "    <tr>\n",
       "      <th>3</th>\n",
       "      <td>Afghanistan</td>\n",
       "      <td>Kabul</td>\n",
       "      <td>29,121,286</td>\n",
       "      <td>647,500.0</td>\n",
       "    </tr>\n",
       "    <tr>\n",
       "      <th>4</th>\n",
       "      <td>Antigua and Barbuda</td>\n",
       "      <td>St. John's</td>\n",
       "      <td>86,754</td>\n",
       "      <td>443.0</td>\n",
       "    </tr>\n",
       "    <tr>\n",
       "      <th>5</th>\n",
       "      <td>Anguilla</td>\n",
       "      <td>The Valley</td>\n",
       "      <td>13,254</td>\n",
       "      <td>102.0</td>\n",
       "    </tr>\n",
       "    <tr>\n",
       "      <th>...</th>\n",
       "      <td>...</td>\n",
       "      <td>...</td>\n",
       "      <td>...</td>\n",
       "      <td>...</td>\n",
       "    </tr>\n",
       "    <tr>\n",
       "      <th>246</th>\n",
       "      <td>Yemen</td>\n",
       "      <td>Sanaa</td>\n",
       "      <td>23,495,361</td>\n",
       "      <td>527,970.0</td>\n",
       "    </tr>\n",
       "    <tr>\n",
       "      <th>247</th>\n",
       "      <td>Mayotte</td>\n",
       "      <td>Mamoudzou</td>\n",
       "      <td>159,042</td>\n",
       "      <td>374.0</td>\n",
       "    </tr>\n",
       "    <tr>\n",
       "      <th>248</th>\n",
       "      <td>South Africa</td>\n",
       "      <td>Pretoria</td>\n",
       "      <td>49,000,000</td>\n",
       "      <td>1,219,912.0</td>\n",
       "    </tr>\n",
       "    <tr>\n",
       "      <th>249</th>\n",
       "      <td>Zambia</td>\n",
       "      <td>Lusaka</td>\n",
       "      <td>13,460,305</td>\n",
       "      <td>752,614.0</td>\n",
       "    </tr>\n",
       "    <tr>\n",
       "      <th>250</th>\n",
       "      <td>Zimbabwe</td>\n",
       "      <td>Harare</td>\n",
       "      <td>11,651,858</td>\n",
       "      <td>390,580.0</td>\n",
       "    </tr>\n",
       "  </tbody>\n",
       "</table>\n",
       "<p>250 rows × 4 columns</p>\n",
       "</div>"
      ],
      "text/plain": [
       "                     name           capital  population         area\n",
       "1                 Andorra  Andorra la Vella      84,000        468.0\n",
       "2    United Arab Emirates         Abu Dhabi   4,975,593     82,880.0\n",
       "3             Afghanistan             Kabul  29,121,286    647,500.0\n",
       "4     Antigua and Barbuda        St. John's      86,754        443.0\n",
       "5                Anguilla        The Valley      13,254        102.0\n",
       "..                    ...               ...         ...          ...\n",
       "246                 Yemen             Sanaa  23,495,361    527,970.0\n",
       "247               Mayotte         Mamoudzou     159,042        374.0\n",
       "248          South Africa          Pretoria  49,000,000  1,219,912.0\n",
       "249                Zambia            Lusaka  13,460,305    752,614.0\n",
       "250              Zimbabwe            Harare  11,651,858    390,580.0\n",
       "\n",
       "[250 rows x 4 columns]"
      ]
     },
     "execution_count": 21,
     "metadata": {},
     "output_type": "execute_result"
    }
   ],
   "source": [
    "df = pd.DataFrame(result)\n",
    "df.sort_values('name')\n",
    "df['name'] = df['name'].str.strip()\n",
    "df['population'] = df['population'].apply( lambda x: \"{:,}\".format(int(x)))\n",
    "df['area'] = df['area'].apply(lambda x: \"{:,}\".format(float(x)))\n",
    "df.index += 1\n",
    "df"
   ]
  },
  {
   "cell_type": "code",
   "execution_count": 23,
   "metadata": {
    "id": "xsVi3kluDRob"
   },
   "outputs": [],
   "source": [
    "df.to_csv(\"Countries Of the World.csv\", index = True)"
   ]
  }
 ],
 "metadata": {
  "colab": {
   "collapsed_sections": [
    "GaYUWdnA8HdV",
    "NOQapHu2dKp3"
   ],
   "provenance": []
  },
  "kernelspec": {
   "display_name": "base",
   "language": "python",
   "name": "python3"
  },
  "language_info": {
   "codemirror_mode": {
    "name": "ipython",
    "version": 3
   },
   "file_extension": ".py",
   "mimetype": "text/x-python",
   "name": "python",
   "nbconvert_exporter": "python",
   "pygments_lexer": "ipython3",
   "version": "3.12.7"
  }
 },
 "nbformat": 4,
 "nbformat_minor": 0
}
